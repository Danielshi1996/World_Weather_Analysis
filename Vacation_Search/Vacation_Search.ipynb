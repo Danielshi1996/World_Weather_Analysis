{
 "cells": [
  {
   "cell_type": "markdown",
   "source": [
    "## Deliverable 2. Create a Customer Travel Destinations Map."
   ],
   "metadata": {}
  },
  {
   "cell_type": "code",
   "execution_count": 2,
   "source": [
    "# Dependencies and Setup\r\n",
    "import pandas as pd\r\n",
    "import requests\r\n",
    "import gmaps\r\n",
    "\r\n",
    "# Import API key\r\n",
    "from config import g_key\r\n",
    "\r\n",
    "# Configure gmaps API key\r\n",
    "gmaps.configure(api_key=g_key)"
   ],
   "outputs": [],
   "metadata": {}
  },
  {
   "cell_type": "code",
   "execution_count": 3,
   "source": [
    "# 1. Import the WeatherPy_database.csv file. \r\n",
    "city_data_df = pd.read_csv(\"../Weather_Database/WeatherPy_database.csv\")\r\n",
    "city_data_df.head()"
   ],
   "outputs": [
    {
     "output_type": "execute_result",
     "data": {
      "text/plain": [
       "   City_ID                       City      Lat      Lng  Max Temp  Humidity  \\\n",
       "0        0               Jacareacanga  -6.2222 -57.7528     36.17        46   \n",
       "1        1                      Adrar  20.5022 -10.0711     38.78        14   \n",
       "2        2  Santa Isabel Do Rio Negro  -0.4139 -65.0192     36.26        33   \n",
       "3        3             Great Yarmouth  52.6083   1.7305     17.53        96   \n",
       "4        4         Comodoro Rivadavia -45.8667 -67.5000      9.92        46   \n",
       "\n",
       "   Cloudiness  Wind Speed Country                 Date      Description  \n",
       "0           0        3.09      BR  2021-08-24 18:51:10        clear sky  \n",
       "1           3        2.60      MR  2021-08-24 18:50:41        clear sky  \n",
       "2          89        2.24      BR  2021-08-24 18:48:53  overcast clouds  \n",
       "3          53        4.46      GB  2021-08-24 18:54:14    broken clouds  \n",
       "4           0        8.23      AR  2021-08-24 18:57:18        clear sky  "
      ],
      "text/html": [
       "<div>\n",
       "<style scoped>\n",
       "    .dataframe tbody tr th:only-of-type {\n",
       "        vertical-align: middle;\n",
       "    }\n",
       "\n",
       "    .dataframe tbody tr th {\n",
       "        vertical-align: top;\n",
       "    }\n",
       "\n",
       "    .dataframe thead th {\n",
       "        text-align: right;\n",
       "    }\n",
       "</style>\n",
       "<table border=\"1\" class=\"dataframe\">\n",
       "  <thead>\n",
       "    <tr style=\"text-align: right;\">\n",
       "      <th></th>\n",
       "      <th>City_ID</th>\n",
       "      <th>City</th>\n",
       "      <th>Lat</th>\n",
       "      <th>Lng</th>\n",
       "      <th>Max Temp</th>\n",
       "      <th>Humidity</th>\n",
       "      <th>Cloudiness</th>\n",
       "      <th>Wind Speed</th>\n",
       "      <th>Country</th>\n",
       "      <th>Date</th>\n",
       "      <th>Description</th>\n",
       "    </tr>\n",
       "  </thead>\n",
       "  <tbody>\n",
       "    <tr>\n",
       "      <th>0</th>\n",
       "      <td>0</td>\n",
       "      <td>Jacareacanga</td>\n",
       "      <td>-6.2222</td>\n",
       "      <td>-57.7528</td>\n",
       "      <td>36.17</td>\n",
       "      <td>46</td>\n",
       "      <td>0</td>\n",
       "      <td>3.09</td>\n",
       "      <td>BR</td>\n",
       "      <td>2021-08-24 18:51:10</td>\n",
       "      <td>clear sky</td>\n",
       "    </tr>\n",
       "    <tr>\n",
       "      <th>1</th>\n",
       "      <td>1</td>\n",
       "      <td>Adrar</td>\n",
       "      <td>20.5022</td>\n",
       "      <td>-10.0711</td>\n",
       "      <td>38.78</td>\n",
       "      <td>14</td>\n",
       "      <td>3</td>\n",
       "      <td>2.60</td>\n",
       "      <td>MR</td>\n",
       "      <td>2021-08-24 18:50:41</td>\n",
       "      <td>clear sky</td>\n",
       "    </tr>\n",
       "    <tr>\n",
       "      <th>2</th>\n",
       "      <td>2</td>\n",
       "      <td>Santa Isabel Do Rio Negro</td>\n",
       "      <td>-0.4139</td>\n",
       "      <td>-65.0192</td>\n",
       "      <td>36.26</td>\n",
       "      <td>33</td>\n",
       "      <td>89</td>\n",
       "      <td>2.24</td>\n",
       "      <td>BR</td>\n",
       "      <td>2021-08-24 18:48:53</td>\n",
       "      <td>overcast clouds</td>\n",
       "    </tr>\n",
       "    <tr>\n",
       "      <th>3</th>\n",
       "      <td>3</td>\n",
       "      <td>Great Yarmouth</td>\n",
       "      <td>52.6083</td>\n",
       "      <td>1.7305</td>\n",
       "      <td>17.53</td>\n",
       "      <td>96</td>\n",
       "      <td>53</td>\n",
       "      <td>4.46</td>\n",
       "      <td>GB</td>\n",
       "      <td>2021-08-24 18:54:14</td>\n",
       "      <td>broken clouds</td>\n",
       "    </tr>\n",
       "    <tr>\n",
       "      <th>4</th>\n",
       "      <td>4</td>\n",
       "      <td>Comodoro Rivadavia</td>\n",
       "      <td>-45.8667</td>\n",
       "      <td>-67.5000</td>\n",
       "      <td>9.92</td>\n",
       "      <td>46</td>\n",
       "      <td>0</td>\n",
       "      <td>8.23</td>\n",
       "      <td>AR</td>\n",
       "      <td>2021-08-24 18:57:18</td>\n",
       "      <td>clear sky</td>\n",
       "    </tr>\n",
       "  </tbody>\n",
       "</table>\n",
       "</div>"
      ]
     },
     "metadata": {},
     "execution_count": 3
    }
   ],
   "metadata": {}
  },
  {
   "cell_type": "code",
   "execution_count": 6,
   "source": [
    "# 2. Prompt the user to enter minimum and maximum temperature criteria \r\n",
    "# Ask the customer to add a minimum and maximum temperature value.\r\n",
    "min_temp = float(input(\"What is the minimum temperature (Celcius) you would like for your trip? \"))\r\n",
    "max_temp = float(input(\"What is the maximum temperature (Celcius) you would like for your trip? \"))"
   ],
   "outputs": [
    {
     "output_type": "error",
     "ename": "ValueError",
     "evalue": "could not convert string to float: ''",
     "traceback": [
      "\u001b[1;31m---------------------------------------------------------------------------\u001b[0m",
      "\u001b[1;31mValueError\u001b[0m                                Traceback (most recent call last)",
      "\u001b[1;32m~\\AppData\\Local\\Temp/ipykernel_30872/1650607741.py\u001b[0m in \u001b[0;36m<module>\u001b[1;34m\u001b[0m\n\u001b[0;32m      1\u001b[0m \u001b[1;31m# 2. Prompt the user to enter minimum and maximum temperature criteria\u001b[0m\u001b[1;33m\u001b[0m\u001b[1;33m\u001b[0m\u001b[1;33m\u001b[0m\u001b[0m\n\u001b[0;32m      2\u001b[0m \u001b[1;31m# Ask the customer to add a minimum and maximum temperature value.\u001b[0m\u001b[1;33m\u001b[0m\u001b[1;33m\u001b[0m\u001b[1;33m\u001b[0m\u001b[0m\n\u001b[1;32m----> 3\u001b[1;33m \u001b[0mmin_temp\u001b[0m \u001b[1;33m=\u001b[0m \u001b[0mfloat\u001b[0m\u001b[1;33m(\u001b[0m\u001b[0minput\u001b[0m\u001b[1;33m(\u001b[0m\u001b[1;34m\"What is the minimum temperature (Celcius) you would like for your trip? \"\u001b[0m\u001b[1;33m)\u001b[0m\u001b[1;33m)\u001b[0m\u001b[1;33m\u001b[0m\u001b[1;33m\u001b[0m\u001b[0m\n\u001b[0m\u001b[0;32m      4\u001b[0m \u001b[0mmax_temp\u001b[0m \u001b[1;33m=\u001b[0m \u001b[0mfloat\u001b[0m\u001b[1;33m(\u001b[0m\u001b[0minput\u001b[0m\u001b[1;33m(\u001b[0m\u001b[1;34m\"What is the maximum temperature (Celcius) you would like for your trip? \"\u001b[0m\u001b[1;33m)\u001b[0m\u001b[1;33m)\u001b[0m\u001b[1;33m\u001b[0m\u001b[1;33m\u001b[0m\u001b[0m\n",
      "\u001b[1;31mValueError\u001b[0m: could not convert string to float: ''"
     ]
    }
   ],
   "metadata": {}
  },
  {
   "cell_type": "code",
   "execution_count": 4,
   "source": [
    "# 3. Filter the city_data_df DataFrame using the input statements to create a new DataFrame using the loc method.\r\n"
   ],
   "outputs": [],
   "metadata": {}
  },
  {
   "cell_type": "code",
   "execution_count": 5,
   "source": [
    "# 4a. Determine if there are any empty rows.\r\n"
   ],
   "outputs": [],
   "metadata": {}
  },
  {
   "cell_type": "code",
   "execution_count": 6,
   "source": [
    "# 4b. Drop any empty rows and create a new DataFrame that doesn’t have empty rows.\r\n"
   ],
   "outputs": [],
   "metadata": {}
  },
  {
   "cell_type": "code",
   "execution_count": 7,
   "source": [
    "# 5a. Create DataFrame called hotel_df to store hotel names along with city, country, max temp, and coordinates.\r\n",
    "hotel_df = clean_df[[\"City\", \"Country\", \"Max Temp\", \"Current Description\", \"Lat\", \"Lng\"]].copy()\r\n",
    "\r\n",
    "# 5b. Create a new column \"Hotel Name\"\r\n",
    "hotel_df[\"Hotel Name\"] = \"\"\r\n",
    "hotel_df.head(10)"
   ],
   "outputs": [],
   "metadata": {}
  },
  {
   "cell_type": "code",
   "execution_count": 8,
   "source": [
    "# 6a. Set parameters to search for hotels with 5000 meters.\r\n",
    "params = {\r\n",
    "    \"radius\": 5000,\r\n",
    "    \"type\": \"lodging\",\r\n",
    "    \"key\": g_key\r\n",
    "}\r\n",
    "\r\n",
    "# 6b. Iterate through the hotel DataFrame.\r\n",
    "\r\n",
    "    # 6c. Get latitude and longitude from DataFrame\r\n",
    "\r\n",
    "    \r\n",
    "    # 6d. Set up the base URL for the Google Directions API to get JSON data.\r\n",
    "    \r\n",
    "\r\n",
    "    # 6e. Make request and retrieve the JSON data from the search. \r\n",
    "   \r\n",
    "    \r\n",
    "    # 6f. Get the first hotel from the results and store the name, if a hotel isn't found skip the city.\r\n",
    "    \r\n",
    "        "
   ],
   "outputs": [],
   "metadata": {}
  },
  {
   "cell_type": "code",
   "execution_count": 9,
   "source": [
    "# 7. Drop the rows where there is no Hotel Name.\r\n"
   ],
   "outputs": [],
   "metadata": {}
  },
  {
   "cell_type": "code",
   "execution_count": 10,
   "source": [
    "# 8a. Create the output File (CSV)\r\n",
    "\r\n",
    "# 8b. Export the City_Data into a csv\r\n",
    "clean_hotel_df.to_csv(output_data_file, index_label=\"City_ID\")"
   ],
   "outputs": [],
   "metadata": {}
  },
  {
   "cell_type": "code",
   "execution_count": 11,
   "source": [
    "# 9. Using the template add city name, the country code, the weather description and maximum temperature for the city.\r\n",
    "info_box_template = \"\"\"\r\n",
    "\r\n",
    "\"\"\"\r\n",
    "\r\n",
    "# 10a. Get the data from each row and add it to the formatting template and store the data in a list.\r\n",
    "hotel_info = [info_box_template.format(**row) for index, row in clean_hotel_df.iterrows()]\r\n",
    "\r\n",
    "# 10b. Get the latitude and longitude from each row and store in a new DataFrame.\r\n",
    "locations = clean_hotel_df[[\"Lat\", \"Lng\"]]"
   ],
   "outputs": [],
   "metadata": {}
  },
  {
   "cell_type": "code",
   "execution_count": 12,
   "source": [
    "# 11a. Add a marker layer for each city to the map. \r\n",
    "\r\n",
    "# 11b. Display the figure\r\n"
   ],
   "outputs": [],
   "metadata": {}
  },
  {
   "cell_type": "code",
   "execution_count": null,
   "source": [],
   "outputs": [],
   "metadata": {}
  },
  {
   "cell_type": "code",
   "execution_count": null,
   "source": [],
   "outputs": [],
   "metadata": {}
  }
 ],
 "metadata": {
  "kernelspec": {
   "name": "python3",
   "display_name": "Python 3.9.1 64-bit"
  },
  "language_info": {
   "codemirror_mode": {
    "name": "ipython",
    "version": 3
   },
   "file_extension": ".py",
   "mimetype": "text/x-python",
   "name": "python",
   "nbconvert_exporter": "python",
   "pygments_lexer": "ipython3",
   "version": "3.9.1"
  },
  "latex_envs": {
   "LaTeX_envs_menu_present": true,
   "autoclose": false,
   "autocomplete": true,
   "bibliofile": "biblio.bib",
   "cite_by": "apalike",
   "current_citInitial": 1,
   "eqLabelWithNumbers": true,
   "eqNumInitial": 1,
   "hotkeys": {
    "equation": "Ctrl-E",
    "itemize": "Ctrl-I"
   },
   "labels_anchors": false,
   "latex_user_defs": false,
   "report_style_numbering": false,
   "user_envs_cfg": false
  },
  "interpreter": {
   "hash": "63fd5069d213b44bf678585dea6b12cceca9941eaf7f819626cde1f2670de90d"
  }
 },
 "nbformat": 4,
 "nbformat_minor": 2
}